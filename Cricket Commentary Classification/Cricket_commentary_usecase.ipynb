{
  "cells": [
    {
      "metadata": {},
      "cell_type": "markdown",
      "source": "#                                 Classification of balls based on Commentary"
    },
    {
      "metadata": {},
      "cell_type": "markdown",
      "source": "#### Importing Required packages"
    },
    {
      "metadata": {
        "trusted": true
      },
      "cell_type": "code",
      "source": "import pandas as pd\nimport numpy as np\nimport string\nimport re\nimport nltk\nfrom sklearn.model_selection import train_test_split\nfrom matplotlib import pyplot as plt\n%matplotlib inline\nfrom sklearn import svm\nfrom sklearn.feature_extraction.text import CountVectorizer,TfidfTransformer\nfrom sklearn.pipeline import Pipeline\nfrom sklearn.metrics import accuracy_score\nfrom sklearn.metrics import precision_recall_fscore_support as score\nfrom sklearn.utils import resample",
      "execution_count": 1,
      "outputs": [
        {
          "output_type": "stream",
          "text": "/home/nbuser/anaconda3_420/lib/python3.5/site-packages/matplotlib/font_manager.py:281: UserWarning: Matplotlib is building the font cache using fc-list. This may take a moment.\n  'Matplotlib is building the font cache using fc-list. '\n",
          "name": "stderr"
        }
      ]
    },
    {
      "metadata": {},
      "cell_type": "markdown",
      "source": "#### Loading the Datasets"
    },
    {
      "metadata": {
        "trusted": true
      },
      "cell_type": "code",
      "source": "# Read Train Data and store in a DataFrame\ntrain_df = pd.read_excel(\"CCC_TrainingData.xlsx\")\n\n# Read Test Data and store in a DataFrame\ntest_df = pd.read_excel(\"CCC_TestData.xlsx\")\n\ntrain_df.head()",
      "execution_count": 2,
      "outputs": [
        {
          "output_type": "execute_result",
          "execution_count": 2,
          "data": {
            "text/plain": "   ID      Match_ID  Over                                         Commentary  \\\n0   0  803965640511  49.6   and india reach 300. there has been a 300 in ...   \n1   1  803965640511  49.5   slower ball, ashwin bunts this to leg for -99...   \n2   2  803965640511  49.4   full toss on off, he just slogs, gets a thick...   \n3   3  803965640511  49.3   that's the closest you'll get to a hat-trick ...   \n4   4  803965640511  49.2   sohail is doing the sajda after bowling rahan...   \n\n   Over_Run_Total          Target  \n0               4  Run_Bw_Wickets  \n1               4  Run_Bw_Wickets  \n2               4  Run_Bw_Wickets  \n3               4             Dot  \n4               4          Wicket  ",
            "text/html": "<div>\n<table border=\"1\" class=\"dataframe\">\n  <thead>\n    <tr style=\"text-align: right;\">\n      <th></th>\n      <th>ID</th>\n      <th>Match_ID</th>\n      <th>Over</th>\n      <th>Commentary</th>\n      <th>Over_Run_Total</th>\n      <th>Target</th>\n    </tr>\n  </thead>\n  <tbody>\n    <tr>\n      <th>0</th>\n      <td>0</td>\n      <td>803965640511</td>\n      <td>49.6</td>\n      <td>and india reach 300. there has been a 300 in ...</td>\n      <td>4</td>\n      <td>Run_Bw_Wickets</td>\n    </tr>\n    <tr>\n      <th>1</th>\n      <td>1</td>\n      <td>803965640511</td>\n      <td>49.5</td>\n      <td>slower ball, ashwin bunts this to leg for -99...</td>\n      <td>4</td>\n      <td>Run_Bw_Wickets</td>\n    </tr>\n    <tr>\n      <th>2</th>\n      <td>2</td>\n      <td>803965640511</td>\n      <td>49.4</td>\n      <td>full toss on off, he just slogs, gets a thick...</td>\n      <td>4</td>\n      <td>Run_Bw_Wickets</td>\n    </tr>\n    <tr>\n      <th>3</th>\n      <td>3</td>\n      <td>803965640511</td>\n      <td>49.3</td>\n      <td>that's the closest you'll get to a hat-trick ...</td>\n      <td>4</td>\n      <td>Dot</td>\n    </tr>\n    <tr>\n      <th>4</th>\n      <td>4</td>\n      <td>803965640511</td>\n      <td>49.2</td>\n      <td>sohail is doing the sajda after bowling rahan...</td>\n      <td>4</td>\n      <td>Wicket</td>\n    </tr>\n  </tbody>\n</table>\n</div>"
          },
          "metadata": {}
        }
      ]
    },
    {
      "metadata": {},
      "cell_type": "markdown",
      "source": "#### Analyzing the given Dataset"
    },
    {
      "metadata": {
        "trusted": true
      },
      "cell_type": "code",
      "source": "dot_count=len(train_df[train_df['Target']=='Dot']) #count of dot balls\nwicket_count=len(train_df[train_df['Target']=='Wicket']) #count of wickets\nboundary_count=len(train_df[train_df['Target']=='Boundary']) #count of boundaries\nrbw_count=len(train_df[train_df['Target']=='Run_Bw_Wickets']) #count of run between wickets\n\ndata = {'Dot': dot_count, 'wicket': wicket_count, 'boundary':boundary_count, 'run_bw_wicket':rbw_count}\nnames = list(data.keys())\nvalues = list(data.values())\nplt.bar(names, values)  #bar graph for visualizing count of each class\nplt.suptitle('Categorical Plotting')\nplt.show()  ",
      "execution_count": 3,
      "outputs": [
        {
          "output_type": "display_data",
          "data": {
            "image/png": "[encoded data removed]",
            "text/plain": "<matplotlib.figure.Figure at 0x7f9c7bcddf60>"
          },
          "metadata": {}
        }
      ]
    },
    {
      "metadata": {},
      "cell_type": "markdown",
      "source": "#### Balancing the dataset"
    },
    {
      "metadata": {
        "trusted": true
      },
      "cell_type": "code",
      "source": "#balancing the imbalanced data by oversampling the minority classes\n\ndf_wicket = train_df[train_df.Target=='Wicket']\ndf_boundary = train_df[train_df.Target=='Boundary']\ndf_rbw = train_df[train_df.Target=='Run_Bw_Wickets']\ndf_dot = train_df[train_df.Target=='Dot']\n \n# Upsample minority class\nwicket_sample = resample(df_wicket,replace=True,     # sample with replacement\n                                 n_samples=30000,    # to match majority class\n                                 random_state=123)   # reproducible results\nboundary_sample = resample(df_boundary,replace=True, # sample with replacement\n                                 n_samples=30000,    # to match majority class\n                                 random_state=123)   # reproducible results\ndf = pd.concat([wicket_sample, boundary_sample,df_rbw,df_dot ],ignore_index=True)\ndf.head()",
      "execution_count": 4,
      "outputs": [
        {
          "output_type": "execute_result",
          "execution_count": 4,
          "data": {
            "text/plain": "      ID       Match_ID  Over  \\\n0  91685   803968295711   1.4   \n1  89019   803968292911  19.1   \n2  89340   803968293122   7.1   \n3  40043  8048113659222  11.4   \n4  35744  8048108263322   7.5   \n\n                                          Commentary  Over_Run_Total  Target  \n0   simple catch at first slip and anamul succumb...               3  Wicket  \n1   russel slogs across the line and like so many...              21  Wicket  \n2   and he strikes immediately, with a short of l...               4  Wicket  \n3   run -999 at the non-striker's end! full and w...              10  Wicket  \n4   this is easier than catching practice to axar...               2  Wicket  ",
            "text/html": "<div>\n<table border=\"1\" class=\"dataframe\">\n  <thead>\n    <tr style=\"text-align: right;\">\n      <th></th>\n      <th>ID</th>\n      <th>Match_ID</th>\n      <th>Over</th>\n      <th>Commentary</th>\n      <th>Over_Run_Total</th>\n      <th>Target</th>\n    </tr>\n  </thead>\n  <tbody>\n    <tr>\n      <th>0</th>\n      <td>91685</td>\n      <td>803968295711</td>\n      <td>1.4</td>\n      <td>simple catch at first slip and anamul succumb...</td>\n      <td>3</td>\n      <td>Wicket</td>\n    </tr>\n    <tr>\n      <th>1</th>\n      <td>89019</td>\n      <td>803968292911</td>\n      <td>19.1</td>\n      <td>russel slogs across the line and like so many...</td>\n      <td>21</td>\n      <td>Wicket</td>\n    </tr>\n    <tr>\n      <th>2</th>\n      <td>89340</td>\n      <td>803968293122</td>\n      <td>7.1</td>\n      <td>and he strikes immediately, with a short of l...</td>\n      <td>4</td>\n      <td>Wicket</td>\n    </tr>\n    <tr>\n      <th>3</th>\n      <td>40043</td>\n      <td>8048113659222</td>\n      <td>11.4</td>\n      <td>run -999 at the non-striker's end! full and w...</td>\n      <td>10</td>\n      <td>Wicket</td>\n    </tr>\n    <tr>\n      <th>4</th>\n      <td>35744</td>\n      <td>8048108263322</td>\n      <td>7.5</td>\n      <td>this is easier than catching practice to axar...</td>\n      <td>2</td>\n      <td>Wicket</td>\n    </tr>\n  </tbody>\n</table>\n</div>"
          },
          "metadata": {}
        }
      ]
    },
    {
      "metadata": {},
      "cell_type": "markdown",
      "source": "#### Analyzing balanced data"
    },
    {
      "metadata": {
        "trusted": true,
        "scrolled": false
      },
      "cell_type": "code",
      "source": "#summary of data after oversampling\n\nprint(\"No. of rows \",len(df))\n\nmatches=pd.Categorical(df['Match_ID'])\nprint(\"No. of matches \",len(matches.unique()))\n\ncategories=pd.Categorical(df['Target'])\nprint(\"Target classes: \",categories.unique())\nfor i in categories.unique():\n    print(\"No.of {} balls {}\".format(i,len(df[df['Target']==i])))",
      "execution_count": 5,
      "outputs": [
        {
          "output_type": "stream",
          "text": "No. of rows  145607\nNo. of matches  775\nTarget classes:  [Wicket, Boundary, Run_Bw_Wickets, Dot]\nCategories (4, object): [Wicket, Boundary, Run_Bw_Wickets, Dot]\nNo.of Wicket balls 30000\nNo.of Boundary balls 30000\nNo.of Run_Bw_Wickets balls 43085\nNo.of Dot balls 42522\n",
          "name": "stdout"
        }
      ]
    },
    {
      "metadata": {},
      "cell_type": "markdown",
      "source": "#### Visualizing the class counts after balancing"
    },
    {
      "metadata": {
        "trusted": true
      },
      "cell_type": "code",
      "source": "#visualization of classes\n\ndot_count=len(df[df['Target']=='Dot'])\nwicket_count=len(df[df['Target']=='Wicket'])\nboundary_count=len(df[df['Target']=='Boundary'])\nrbw_count=len(df[df['Target']=='Run_Bw_Wickets'])\n\ndata = {'Dot': dot_count, 'wicket': wicket_count, 'boundary':boundary_count, 'run_bw_wicket':rbw_count}\nnames = list(data.keys())\nvalues = list(data.values())\nplt.bar(names, values)\nplt.suptitle('Categorical Plotting after oversampling')\nplt.show()",
      "execution_count": 6,
      "outputs": [
        {
          "output_type": "display_data",
          "data": {
            "image/png": "[encoded data removed]",
            "text/plain": "<matplotlib.figure.Figure at 0x7f9c7e1cce48>"
          },
          "metadata": {}
        }
      ]
    },
    {
      "metadata": {},
      "cell_type": "markdown",
      "source": "#### Cleaning the data"
    },
    {
      "metadata": {
        "trusted": true
      },
      "cell_type": "code",
      "source": "#pre-processing the text in commentary \n\nnltk.download('stopwords')\nnltk.download('wordnet')\nstopword = nltk.corpus.stopwords.words('english')\nwn = nltk.WordNetLemmatizer()\ndef clean_text(text):\n    t=text.replace('-999','')\n    text_nopunct = \"\".join([char for char in t if char not in string.punctuation])\n    tokens = re.split('\\s+', text_nopunct.strip())\n    text_nosw=\" \".join([word for word in tokens if word not in stopword])\n    text_lemmatized =\" \".join([wn.lemmatize(word) for word in text_nosw])\n    return text_nosw\n\ndf['clean_text'] = df['Commentary'].apply(lambda x: clean_text(x))\ndf.head() ",
      "execution_count": 7,
      "outputs": [
        {
          "output_type": "stream",
          "text": "[nltk_data] Downloading package stopwords to /home/nbuser/nltk_data...\n[nltk_data]   Unzipping corpora/stopwords.zip.\n[nltk_data] Downloading package wordnet to /home/nbuser/nltk_data...\n[nltk_data]   Unzipping corpora/wordnet.zip.\n",
          "name": "stdout"
        },
        {
          "output_type": "execute_result",
          "execution_count": 7,
          "data": {
            "text/plain": "      ID       Match_ID  Over  \\\n0  91685   803968295711   1.4   \n1  89019   803968292911  19.1   \n2  89340   803968293122   7.1   \n3  40043  8048113659222  11.4   \n4  35744  8048108263322   7.5   \n\n                                          Commentary  Over_Run_Total  Target  \\\n0   simple catch at first slip and anamul succumb...               3  Wicket   \n1   russel slogs across the line and like so many...              21  Wicket   \n2   and he strikes immediately, with a short of l...               4  Wicket   \n3   run -999 at the non-striker's end! full and w...              10  Wicket   \n4   this is easier than catching practice to axar...               2  Wicket   \n\n                                          clean_text  \n0  simple catch first slip anamul succumbs rash s...  \n1  russel slogs across line like many others mist...  \n2  strikes immediately short length ball movement...  \n3  run nonstrikers end full wide outside tripathi...  \n4  easier catching practice axar patel short cove...  ",
            "text/html": "<div>\n<table border=\"1\" class=\"dataframe\">\n  <thead>\n    <tr style=\"text-align: right;\">\n      <th></th>\n      <th>ID</th>\n      <th>Match_ID</th>\n      <th>Over</th>\n      <th>Commentary</th>\n      <th>Over_Run_Total</th>\n      <th>Target</th>\n      <th>clean_text</th>\n    </tr>\n  </thead>\n  <tbody>\n    <tr>\n      <th>0</th>\n      <td>91685</td>\n      <td>803968295711</td>\n      <td>1.4</td>\n      <td>simple catch at first slip and anamul succumb...</td>\n      <td>3</td>\n      <td>Wicket</td>\n      <td>simple catch first slip anamul succumbs rash s...</td>\n    </tr>\n    <tr>\n      <th>1</th>\n      <td>89019</td>\n      <td>803968292911</td>\n      <td>19.1</td>\n      <td>russel slogs across the line and like so many...</td>\n      <td>21</td>\n      <td>Wicket</td>\n      <td>russel slogs across line like many others mist...</td>\n    </tr>\n    <tr>\n      <th>2</th>\n      <td>89340</td>\n      <td>803968293122</td>\n      <td>7.1</td>\n      <td>and he strikes immediately, with a short of l...</td>\n      <td>4</td>\n      <td>Wicket</td>\n      <td>strikes immediately short length ball movement...</td>\n    </tr>\n    <tr>\n      <th>3</th>\n      <td>40043</td>\n      <td>8048113659222</td>\n      <td>11.4</td>\n      <td>run -999 at the non-striker's end! full and w...</td>\n      <td>10</td>\n      <td>Wicket</td>\n      <td>run nonstrikers end full wide outside tripathi...</td>\n    </tr>\n    <tr>\n      <th>4</th>\n      <td>35744</td>\n      <td>8048108263322</td>\n      <td>7.5</td>\n      <td>this is easier than catching practice to axar...</td>\n      <td>2</td>\n      <td>Wicket</td>\n      <td>easier catching practice axar patel short cove...</td>\n    </tr>\n  </tbody>\n</table>\n</div>"
          },
          "metadata": {}
        }
      ]
    },
    {
      "metadata": {},
      "cell_type": "markdown",
      "source": "#### Calculating length of clean text"
    },
    {
      "metadata": {
        "trusted": true
      },
      "cell_type": "code",
      "source": "df['length'] = df['clean_text'].apply(lambda x: len(x)) #finding length of the clean_text\ndf.head()\nindexNames = df[df['length']== 0 ].index   #finding records having zero length\ndf.drop(indexNames, inplace=True)           # Removing records having length equal to 0 from dataframe\n",
      "execution_count": 8,
      "outputs": []
    },
    {
      "metadata": {},
      "cell_type": "markdown",
      "source": "#### Visualizing the length Distribution"
    },
    {
      "metadata": {
        "trusted": true
      },
      "cell_type": "code",
      "source": "#visualisation of body length distribution\n\nbins = np.linspace(0, 200, 40)\nplt.hist(df['length'], bins)\nplt.title(\"Body Length Distribution\")\nplt.show()",
      "execution_count": 9,
      "outputs": [
        {
          "output_type": "display_data",
          "data": {
            "image/png": "[encoded data removed]",
            "text/plain": "<matplotlib.figure.Figure at 0x7f9c7bcddcf8>"
          },
          "metadata": {}
        }
      ]
    },
    {
      "metadata": {},
      "cell_type": "markdown",
      "source": "#### Creating Train and Test splits"
    },
    {
      "metadata": {
        "trusted": true
      },
      "cell_type": "code",
      "source": "#creating train and test split\n\nX=df['clean_text']  \nY=df['Target']\nX_train, X_test, y_train, y_test = train_test_split(X, Y, test_size=0.2)",
      "execution_count": 10,
      "outputs": []
    },
    {
      "metadata": {},
      "cell_type": "markdown",
      "source": "#### Defining the Model "
    },
    {
      "metadata": {
        "trusted": true
      },
      "cell_type": "code",
      "source": "#using machinelearning pipeline to vectorize the data and build model\n\nmodel = Pipeline([('vect',CountVectorizer(ngram_range=(1,3))),  #vectorizing the data\n              ('tfidf',TfidfTransformer()),                 #normalizing the vectorized data\n              ('clf',svm.LinearSVC())])                  #defining the SupportVector model\n\nmodel_desc = model.fit(X_train, y_train) #Training the model using train data\n\nmodel_desc",
      "execution_count": 12,
      "outputs": [
        {
          "output_type": "execute_result",
          "execution_count": 12,
          "data": {
            "text/plain": "Pipeline(memory=None,\n     steps=[('vect', CountVectorizer(analyzer='word', binary=False, decode_error='strict',\n        dtype=<class 'numpy.int64'>, encoding='utf-8', input='content',\n        lowercase=True, max_df=1.0, max_features=None, min_df=1,\n        ngram_range=(1, 3), preprocessor=None, stop_words=None,\n        strip...ax_iter=1000,\n     multi_class='ovr', penalty='l2', random_state=None, tol=0.0001,\n     verbose=0))])"
          },
          "metadata": {}
        }
      ]
    },
    {
      "metadata": {},
      "cell_type": "markdown",
      "source": "#### Prediction on test split and calculating metrics"
    },
    {
      "metadata": {
        "trusted": true
      },
      "cell_type": "code",
      "source": "y_pred=model.predict(X_test) #making predictions on test-split using model\n\nprecision, recall, fscore, support = score(y_test, y_pred) #calculating metrics\n\nprint(\"FScore:\",fscore) #printing the fscore\n\nprint(\"Accuracy is \",accuracy_score(y_pred,y_test)) #calculate and print the accuracy",
      "execution_count": 13,
      "outputs": [
        {
          "output_type": "stream",
          "text": "FScore: [0.92407393 0.83127182 0.80014718 0.96352462]\nAccuracy is  0.8709300728121995\n",
          "name": "stdout"
        }
      ]
    },
    {
      "metadata": {},
      "cell_type": "markdown",
      "source": "#### Prediction on Test data"
    },
    {
      "metadata": {
        "trusted": true
      },
      "cell_type": "code",
      "source": "# Make predictions on the test data\n\ntest_df['clean_text']=test_df['Commentary'].apply(lambda x: clean_text(x)) #cleaning the test data before prediction\npredictions = model.predict(test_df['clean_text'])   #predicting using the model\npredictions",
      "execution_count": 14,
      "outputs": [
        {
          "output_type": "execute_result",
          "execution_count": 14,
          "data": {
            "text/plain": "array(['Boundary', 'Dot', 'Dot', ..., 'Run_Bw_Wickets', 'Run_Bw_Wickets',\n       'Boundary'], dtype=object)"
          },
          "metadata": {}
        }
      ]
    },
    {
      "metadata": {},
      "cell_type": "markdown",
      "source": "#### Generating the output file"
    },
    {
      "metadata": {
        "trusted": true
      },
      "cell_type": "code",
      "source": "#Preparing Submission File\nsubmission = pd.DataFrame({'ID': test_df[\"ID\"], 'Target': predictions})\n\n# Write the submission data frame to a file\nsubmission.to_excel(\"submission2.xlsx\",index=False)",
      "execution_count": 15,
      "outputs": []
    },
    {
      "metadata": {
        "trusted": true
      },
      "cell_type": "code",
      "source": "",
      "execution_count": null,
      "outputs": []
    }
  ],
  "metadata": {
    "kernelspec": {
      "name": "python3",
      "display_name": "Python 3",
      "language": "python"
    },
    "language_info": {
      "mimetype": "text/x-python",
      "nbconvert_exporter": "python",
      "name": "python",
      "pygments_lexer": "ipython3",
      "version": "3.5.4",
      "file_extension": ".py",
      "codemirror_mode": {
        "version": 3,
        "name": "ipython"
      }
    }
  },
  "nbformat": 4,
  "nbformat_minor": 2
}